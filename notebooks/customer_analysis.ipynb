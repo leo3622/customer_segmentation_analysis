{
 "cells": [
  {
   "cell_type": "code",
   "execution_count": 1,
   "id": "b2c9a075",
   "metadata": {},
   "outputs": [
    {
     "data": {
      "text/html": [
       "<div>\n",
       "<style scoped>\n",
       "    .dataframe tbody tr th:only-of-type {\n",
       "        vertical-align: middle;\n",
       "    }\n",
       "\n",
       "    .dataframe tbody tr th {\n",
       "        vertical-align: top;\n",
       "    }\n",
       "\n",
       "    .dataframe thead th {\n",
       "        text-align: right;\n",
       "    }\n",
       "</style>\n",
       "<table border=\"1\" class=\"dataframe\">\n",
       "  <thead>\n",
       "    <tr style=\"text-align: right;\">\n",
       "      <th></th>\n",
       "      <th>InvoiceNo</th>\n",
       "      <th>StockCode</th>\n",
       "      <th>Description</th>\n",
       "      <th>Quantity</th>\n",
       "      <th>InvoiceDate</th>\n",
       "      <th>UnitPrice</th>\n",
       "      <th>CustomerID</th>\n",
       "      <th>Country</th>\n",
       "    </tr>\n",
       "  </thead>\n",
       "  <tbody>\n",
       "    <tr>\n",
       "      <th>0</th>\n",
       "      <td>536365</td>\n",
       "      <td>85123A</td>\n",
       "      <td>WHITE HANGING HEART T-LIGHT HOLDER</td>\n",
       "      <td>6</td>\n",
       "      <td>12/1/2010 8:26</td>\n",
       "      <td>2.55</td>\n",
       "      <td>17850.0</td>\n",
       "      <td>United Kingdom</td>\n",
       "    </tr>\n",
       "    <tr>\n",
       "      <th>1</th>\n",
       "      <td>536365</td>\n",
       "      <td>71053</td>\n",
       "      <td>WHITE METAL LANTERN</td>\n",
       "      <td>6</td>\n",
       "      <td>12/1/2010 8:26</td>\n",
       "      <td>3.39</td>\n",
       "      <td>17850.0</td>\n",
       "      <td>United Kingdom</td>\n",
       "    </tr>\n",
       "    <tr>\n",
       "      <th>2</th>\n",
       "      <td>536365</td>\n",
       "      <td>84406B</td>\n",
       "      <td>CREAM CUPID HEARTS COAT HANGER</td>\n",
       "      <td>8</td>\n",
       "      <td>12/1/2010 8:26</td>\n",
       "      <td>2.75</td>\n",
       "      <td>17850.0</td>\n",
       "      <td>United Kingdom</td>\n",
       "    </tr>\n",
       "    <tr>\n",
       "      <th>3</th>\n",
       "      <td>536365</td>\n",
       "      <td>84029G</td>\n",
       "      <td>KNITTED UNION FLAG HOT WATER BOTTLE</td>\n",
       "      <td>6</td>\n",
       "      <td>12/1/2010 8:26</td>\n",
       "      <td>3.39</td>\n",
       "      <td>17850.0</td>\n",
       "      <td>United Kingdom</td>\n",
       "    </tr>\n",
       "    <tr>\n",
       "      <th>4</th>\n",
       "      <td>536365</td>\n",
       "      <td>84029E</td>\n",
       "      <td>RED WOOLLY HOTTIE WHITE HEART.</td>\n",
       "      <td>6</td>\n",
       "      <td>12/1/2010 8:26</td>\n",
       "      <td>3.39</td>\n",
       "      <td>17850.0</td>\n",
       "      <td>United Kingdom</td>\n",
       "    </tr>\n",
       "  </tbody>\n",
       "</table>\n",
       "</div>"
      ],
      "text/plain": [
       "  InvoiceNo StockCode                          Description  Quantity  \\\n",
       "0    536365    85123A   WHITE HANGING HEART T-LIGHT HOLDER         6   \n",
       "1    536365     71053                  WHITE METAL LANTERN         6   \n",
       "2    536365    84406B       CREAM CUPID HEARTS COAT HANGER         8   \n",
       "3    536365    84029G  KNITTED UNION FLAG HOT WATER BOTTLE         6   \n",
       "4    536365    84029E       RED WOOLLY HOTTIE WHITE HEART.         6   \n",
       "\n",
       "      InvoiceDate  UnitPrice  CustomerID         Country  \n",
       "0  12/1/2010 8:26       2.55     17850.0  United Kingdom  \n",
       "1  12/1/2010 8:26       3.39     17850.0  United Kingdom  \n",
       "2  12/1/2010 8:26       2.75     17850.0  United Kingdom  \n",
       "3  12/1/2010 8:26       3.39     17850.0  United Kingdom  \n",
       "4  12/1/2010 8:26       3.39     17850.0  United Kingdom  "
      ]
     },
     "execution_count": 1,
     "metadata": {},
     "output_type": "execute_result"
    }
   ],
   "source": [
    "# Data cleaning & preprocessing\n",
    "import pandas as pd\n",
    "import numpy as np\n",
    "\n",
    "data = pd.read_csv('../data/OnlineRetail.csv', encoding='unicode_escape')\n",
    "data.head()"
   ]
  },
  {
   "cell_type": "code",
   "execution_count": 2,
   "id": "bb452bcd",
   "metadata": {},
   "outputs": [
    {
     "name": "stdout",
     "output_type": "stream",
     "text": [
      "<class 'pandas.core.frame.DataFrame'>\n",
      "RangeIndex: 541909 entries, 0 to 541908\n",
      "Data columns (total 8 columns):\n",
      " #   Column       Non-Null Count   Dtype  \n",
      "---  ------       --------------   -----  \n",
      " 0   InvoiceNo    541909 non-null  object \n",
      " 1   StockCode    541909 non-null  object \n",
      " 2   Description  540455 non-null  object \n",
      " 3   Quantity     541909 non-null  int64  \n",
      " 4   InvoiceDate  541909 non-null  object \n",
      " 5   UnitPrice    541909 non-null  float64\n",
      " 6   CustomerID   406829 non-null  float64\n",
      " 7   Country      541909 non-null  object \n",
      "dtypes: float64(2), int64(1), object(5)\n",
      "memory usage: 33.1+ MB\n",
      "\n",
      "Missing values in each column:\n"
     ]
    },
    {
     "data": {
      "text/plain": [
       "InvoiceNo           0\n",
       "StockCode           0\n",
       "Description      1454\n",
       "Quantity            0\n",
       "InvoiceDate         0\n",
       "UnitPrice           0\n",
       "CustomerID     135080\n",
       "Country             0\n",
       "dtype: int64"
      ]
     },
     "execution_count": 2,
     "metadata": {},
     "output_type": "execute_result"
    }
   ],
   "source": [
    "# Check for missing values\n",
    "data.info()\n",
    "print(\"\\nMissing values in each column:\")\n",
    "data.isnull().sum()"
   ]
  },
  {
   "cell_type": "code",
   "execution_count": 3,
   "id": "d68c3566",
   "metadata": {},
   "outputs": [
    {
     "data": {
      "text/plain": [
       "InvoiceNo      0\n",
       "StockCode      0\n",
       "Description    0\n",
       "Quantity       0\n",
       "InvoiceDate    0\n",
       "UnitPrice      0\n",
       "CustomerID     0\n",
       "Country        0\n",
       "dtype: int64"
      ]
     },
     "execution_count": 3,
     "metadata": {},
     "output_type": "execute_result"
    }
   ],
   "source": [
    "# Drop missing customer IDs value\n",
    "processed_data = data.dropna(subset=['CustomerID'])\n",
    "processed_data.isnull().sum()"
   ]
  },
  {
   "cell_type": "code",
   "execution_count": 4,
   "id": "d902f57a",
   "metadata": {},
   "outputs": [],
   "source": [
    "# Remove rows with negative or zero quantity\n",
    "processed_data = processed_data[processed_data['Quantity'] > 0]\n",
    "# Convert InvoiceDate to datetime\n",
    "processed_data['InvoiceDate'] = pd.to_datetime(processed_data['InvoiceDate'], errors='coerce')"
   ]
  },
  {
   "cell_type": "code",
   "execution_count": 5,
   "id": "2d15fc4d",
   "metadata": {},
   "outputs": [],
   "source": [
    "# Count how many invoices are there for each customer\n",
    "customer_invoices = processed_data.groupby('CustomerID')['InvoiceNo'].nunique().reset_index()\n",
    "customer_invoices.columns = ['CustomerID', 'PurchaseFrequency']"
   ]
  },
  {
   "cell_type": "code",
   "execution_count": null,
   "id": "b491f844",
   "metadata": {},
   "outputs": [
    {
     "data": {
      "image/png": "[encoded data removed]",
      "text/plain": [
       "<Figure size 800x500 with 1 Axes>"
      ]
     },
     "metadata": {},
     "output_type": "display_data"
    }
   ],
   "source": [
    "import seaborn as sns\n",
    "import matplotlib.pyplot as plt\n",
    "from matplotlib.ticker import MaxNLocator\n",
    "\n",
    "# Visualize the distribution of purchase frequency\n",
    "plt.figure(figsize=(8, 5))\n",
    "sns.histplot(customer_invoices['PurchaseFrequency'], bins=50, kde=True)\n",
    "plt.title('Distribution of Purchase Frequency per Customer')\n",
    "plt.xlabel('Number of Purchases')\n",
    "plt.ylabel('Number of Customers')\n",
    "plt.gca().xaxis.set_major_locator(MaxNLocator(nbins=20))\n",
    "\n",
    "plt.show()\n"
   ]
  },
  {
   "cell_type": "code",
   "execution_count": 7,
   "id": "9d6cc982",
   "metadata": {},
   "outputs": [],
   "source": [
    "# Products purchased by month\n",
    "monthly_sales = processed_data.groupby([processed_data['InvoiceDate'].dt.to_period('M'), 'Description'])['Quantity'].sum().reset_index()\n",
    "monthly_sales.columns = ['Month', 'Product', 'TotalQuantity']\n"
   ]
  },
  {
   "cell_type": "code",
   "execution_count": 8,
   "id": "7ec41408",
   "metadata": {},
   "outputs": [
    {
     "data": {
      "image/png": "[encoded data removed]",
      "text/plain": [
       "<Figure size 1200x600 with 1 Axes>"
      ]
     },
     "metadata": {},
     "output_type": "display_data"
    }
   ],
   "source": [
    "# Total sales by month\n",
    "monthly_sales_summary = monthly_sales.groupby('Month')['TotalQuantity'].sum().reset_index()\n",
    "monthly_sales_summary.columns = ['Month', 'TotalSales']\n",
    "\n",
    "# Convert to csv\n",
    "monthly_sales_summary.to_csv('../data/monthly_sales_summary.csv', index=False)\n",
    "\n",
    "monthly_sales_summary['Month'] = monthly_sales_summary['Month'].astype(str)\n",
    "\n",
    "plt.figure(figsize=(12, 6))\n",
    "sns.lineplot(data=monthly_sales_summary, x='Month', y='TotalSales', marker='o')\n",
    "plt.title('Total Sales Trend by Month')\n",
    "plt.xlabel('Month')\n",
    "plt.ylabel('Total Sales')\n",
    "plt.xticks(rotation=45)\n",
    "plt.grid()\n",
    "plt.tight_layout()\n",
    "\n",
    "plt.savefig('../imgs/monthly_sales_trend.png')\n",
    "\n",
    "plt.show()"
   ]
  },
  {
   "cell_type": "code",
   "execution_count": 9,
   "id": "36e739ee",
   "metadata": {},
   "outputs": [
    {
     "name": "stderr",
     "output_type": "stream",
     "text": [
      "/tmp/ipykernel_18673/3126230076.py:2: DeprecationWarning: DataFrameGroupBy.apply operated on the grouping columns. This behavior is deprecated, and in a future version of pandas the grouping columns will be excluded from the operation. Either pass `include_groups=False` to exclude the groupings or explicitly select the grouping columns after groupby to silence this warning.\n",
      "  top_products_by_month = monthly_sales.groupby('Month').apply(\n"
     ]
    }
   ],
   "source": [
    "# Top 10 products sold by month each year\n",
    "top_products_by_month = monthly_sales.groupby('Month').apply(\n",
    "    lambda x: x.sort_values(by='TotalQuantity', ascending=False).head(10)\n",
    ").reset_index(drop=True)\n",
    "\n",
    "top_products_by_month\n",
    "\n",
    "# Export to CSV\n",
    "top_products_by_month.to_csv('../data/top_10_products_by_month.csv', index=False)"
   ]
  },
  {
   "cell_type": "code",
   "execution_count": 10,
   "id": "1c274007",
   "metadata": {},
   "outputs": [
    {
     "data": {
      "application/vnd.plotly.v1+json": {
       "config": {
        "plotlyServerURL": "https://plot.ly"
       },
       "data": [
        {
         "hovertemplate": "Month=2010-12<br>TotalQuantity=%{x}<br>Product=%{y}<extra></extra>",
         "legendgroup": "2010-12",
         "marker": {
          "color": "#636efa",
          "pattern": {
           "shape": ""
          }
         },
         "name": "2010-12",
         "orientation": "h",
         "showlegend": true,
         "textposition": "auto",
         "type": "bar",
         "x": {
          "bdata": "ExQbDvQNJw2MCmAKOArbCM4Icgg=",
          "dtype": "i2"
         },
         "xaxis": "x",
         "y": [
          "WORLD WAR 2 GLIDERS ASSTD DESIGNS",
          "WHITE HANGING HEART T-LIGHT HOLDER",
          "PACK OF 72 RETROSPOT CAKE CASES",
          "HAND WARMER BABUSHKA DESIGN",
          "MINI PAINT SET VINTAGE ",
          "PACK OF 12 LONDON TISSUES ",
          "GROW A FLYTRAP OR SUNFLOWER IN TIN",
          "ASSORTED COLOUR BIRD ORNAMENT",
          "CREAM HEART CARD HOLDER",
          "RED  HARMONICA IN BOX "
         ],
         "yaxis": "y"
        },
        {
         "hovertemplate": "Month=2011-01<br>TotalQuantity=%{x}<br>Product=%{y}<extra></extra>",
         "legendgroup": "2011-01",
         "marker": {
          "color": "#EF553B",
          "pattern": {
           "shape": ""
          }
         },
         "name": "2011-01",
         "orientation": "h",
         "showlegend": true,
         "textposition": "auto",
         "type": "bar",
         "x": {
          "bdata": "5yEBAFsVAAABDQAAqAwAAGYMAAAOCwAAQQoAAF4JAABMCAAAdAcAAA==",
          "dtype": "i4"
         },
         "xaxis": "x",
         "y": [
          "MEDIUM CERAMIC TOP STORAGE JAR",
          "WHITE HANGING HEART T-LIGHT HOLDER",
          "PACK OF 72 RETROSPOT CAKE CASES",
          "FAIRY CAKE FLANNEL ASSORTED COLOUR",
          "BROCADE RING PURSE ",
          "HEART OF WICKER SMALL",
          "JUMBO BAG RED RETROSPOT",
          "GIN + TONIC DIET METAL SIGN",
          "CHINESE DRAGON PAPER LANTERNS",
          "MINI PAINT SET VINTAGE "
         ],
         "yaxis": "y"
        },
        {
         "hovertemplate": "Month=2011-02<br>TotalQuantity=%{x}<br>Product=%{y}<extra></extra>",
         "legendgroup": "2011-02",
         "marker": {
          "color": "#00cc96",
          "pattern": {
           "shape": ""
          }
         },
         "name": "2011-02",
         "orientation": "h",
         "showlegend": true,
         "textposition": "auto",
         "type": "bar",
         "x": {
          "bdata": "kg/TDoENmwtjCskJhwl8CHgHHwc=",
          "dtype": "i2"
         },
         "xaxis": "x",
         "y": [
          "EMPIRE DESIGN ROSETTE",
          "GROW A FLYTRAP OR SUNFLOWER IN TIN",
          "WORLD WAR 2 GLIDERS ASSTD DESIGNS",
          "JUMBO BAG RED RETROSPOT",
          "PACK OF 12 LONDON TISSUES ",
          "SMALL POPCORN HOLDER",
          "ESSENTIAL BALM 3.5g TIN IN ENVELOPE",
          "ASSORTED COLOURS SILK FAN",
          "PACK OF 72 RETROSPOT CAKE CASES",
          "WHITE HANGING HEART T-LIGHT HOLDER"
         ],
         "yaxis": "y"
        },
        {
         "hovertemplate": "Month=2011-03<br>TotalQuantity=%{x}<br>Product=%{y}<extra></extra>",
         "legendgroup": "2011-03",
         "marker": {
          "color": "#ab63fa",
          "pattern": {
           "shape": ""
          }
         },
         "name": "2011-03",
         "orientation": "h",
         "showlegend": true,
         "textposition": "auto",
         "type": "bar",
         "x": {
          "bdata": "PBMwD4gOvw1EDWALFwuwCpsKRAo=",
          "dtype": "i2"
         },
         "xaxis": "x",
         "y": [
          "JUMBO BAG RED RETROSPOT",
          "WORLD WAR 2 GLIDERS ASSTD DESIGNS",
          "PACK OF 72 RETROSPOT CAKE CASES",
          "PACK OF 12 LONDON TISSUES ",
          "BROCADE RING PURSE ",
          "ASSORTED COLOURS SILK FAN",
          "JUMBO BAG STRAWBERRY",
          "MINI PAINT SET VINTAGE ",
          "JUMBO BAG PINK POLKADOT",
          "PACK OF 60 PINK PAISLEY CAKE CASES"
         ],
         "yaxis": "y"
        },
        {
         "hovertemplate": "Month=2011-04<br>TotalQuantity=%{x}<br>Product=%{y}<extra></extra>",
         "legendgroup": "2011-04",
         "marker": {
          "color": "#FFA15A",
          "pattern": {
           "shape": ""
          }
         },
         "name": "2011-04",
         "orientation": "h",
         "showlegend": true,
         "textposition": "auto",
         "type": "bar",
         "x": {
          "bdata": "8CeNDkYMAAtRCiAK3gnKCVMJQAk=",
          "dtype": "i2"
         },
         "xaxis": "x",
         "y": [
          "WORLD WAR 2 GLIDERS ASSTD DESIGNS",
          "WHITE HANGING HEART T-LIGHT HOLDER",
          "FAIRY CAKE FLANNEL ASSORTED COLOUR",
          "PACK OF 72 RETROSPOT CAKE CASES",
          "BALLOON WATER BOMB PACK OF 35",
          "GROW A FLYTRAP OR SUNFLOWER IN TIN",
          "PACK OF 60 PINK PAISLEY CAKE CASES",
          "GIN + TONIC DIET METAL SIGN",
          "PAPER CHAIN KIT EMPIRE",
          "ASSORTED COLOUR BIRD ORNAMENT"
         ],
         "yaxis": "y"
        },
        {
         "hovertemplate": "Month=2011-05<br>TotalQuantity=%{x}<br>Product=%{y}<extra></extra>",
         "legendgroup": "2011-05",
         "marker": {
          "color": "#19d3f3",
          "pattern": {
           "shape": ""
          }
         },
         "name": "2011-05",
         "orientation": "h",
         "showlegend": true,
         "textposition": "auto",
         "type": "bar",
         "x": {
          "bdata": "UhpQE20PMA8GD44NjAzcC9ELTgs=",
          "dtype": "i2"
         },
         "xaxis": "x",
         "y": [
          "SMALL POPCORN HOLDER",
          "WORLD WAR 2 GLIDERS ASSTD DESIGNS",
          "PACK OF 60 PINK PAISLEY CAKE CASES",
          "ASSORTED COLOURS SILK FAN",
          "WHITE HANGING HEART T-LIGHT HOLDER",
          "JUMBO BAG RED RETROSPOT",
          "PACK OF 72 RETROSPOT CAKE CASES",
          "ASSORTED COLOUR BIRD ORNAMENT",
          "PARTY BUNTING",
          "COLOUR GLASS T-LIGHT HOLDER HANGING"
         ],
         "yaxis": "y"
        },
        {
         "hovertemplate": "Month=2011-06<br>TotalQuantity=%{x}<br>Product=%{y}<extra></extra>",
         "legendgroup": "2011-06",
         "marker": {
          "color": "#FF6692",
          "pattern": {
           "shape": ""
          }
         },
         "name": "2011-06",
         "orientation": "h",
         "showlegend": true,
         "textposition": "auto",
         "type": "bar",
         "x": {
          "bdata": "yQ0YDKwLXQmcCEsI9AfEB5wHgAc=",
          "dtype": "i2"
         },
         "xaxis": "x",
         "y": [
          "JUMBO BAG RED RETROSPOT",
          "ASSORTED COLOURS SILK FAN",
          "BROCADE RING PURSE ",
          "PACK OF 12 LONDON TISSUES ",
          "COLOUR GLASS T-LIGHT HOLDER HANGING",
          "SET OF 60 PANTRY DESIGN CAKE CASES ",
          "JUMBO BAG PINK POLKADOT",
          "JUMBO BAG STRAWBERRY",
          "JUMBO BAG DOILEY PATTERNS",
          "WORLD WAR 2 GLIDERS ASSTD DESIGNS"
         ],
         "yaxis": "y"
        },
        {
         "hovertemplate": "Month=2011-07<br>TotalQuantity=%{x}<br>Product=%{y}<extra></extra>",
         "legendgroup": "2011-07",
         "marker": {
          "color": "#B6E880",
          "pattern": {
           "shape": ""
          }
         },
         "name": "2011-07",
         "orientation": "h",
         "showlegend": true,
         "textposition": "auto",
         "type": "bar",
         "x": {
          "bdata": "IBMQDjgNhgybC5oLQwodClMJAQk=",
          "dtype": "i2"
         },
         "xaxis": "x",
         "y": [
          "GIRLS ALPHABET IRON ON PATCHES ",
          "WORLD WAR 2 GLIDERS ASSTD DESIGNS",
          "ASSORTED COLOURS SILK FAN",
          "ESSENTIAL BALM 3.5g TIN IN ENVELOPE",
          "WHITE HANGING HEART T-LIGHT HOLDER",
          "JUMBO BAG RED RETROSPOT",
          "PACK OF 72 RETROSPOT CAKE CASES",
          "SET OF 60 PANTRY DESIGN CAKE CASES ",
          "PACK OF 60 PINK PAISLEY CAKE CASES",
          "PARTY BUNTING"
         ],
         "yaxis": "y"
        },
        {
         "hovertemplate": "Month=2011-08<br>TotalQuantity=%{x}<br>Product=%{y}<extra></extra>",
         "legendgroup": "2011-08",
         "marker": {
          "color": "#FF97FF",
          "pattern": {
           "shape": ""
          }
         },
         "name": "2011-08",
         "orientation": "h",
         "showlegend": true,
         "textposition": "auto",
         "type": "bar",
         "x": {
          "bdata": "GRmeFEIUIAwVC3MJQQnQCM0Iswg=",
          "dtype": "i2"
         },
         "xaxis": "x",
         "y": [
          "ASSORTED COLOUR BIRD ORNAMENT",
          "JUMBO BAG RED RETROSPOT",
          "POPCORN HOLDER",
          "JUMBO BAG APPLES",
          "PACK OF 72 RETROSPOT CAKE CASES",
          "PACK OF 12 LONDON TISSUES ",
          "JUMBO BAG ALPHABET",
          "WORLD WAR 2 GLIDERS ASSTD DESIGNS",
          "RED TOADSTOOL LED NIGHT LIGHT",
          "PACK OF 60 PINK PAISLEY CAKE CASES"
         ],
         "yaxis": "y"
        },
        {
         "hovertemplate": "Month=2011-09<br>TotalQuantity=%{x}<br>Product=%{y}<extra></extra>",
         "legendgroup": "2011-09",
         "marker": {
          "color": "#FECB52",
          "pattern": {
           "shape": ""
          }
         },
         "name": "2011-09",
         "orientation": "h",
         "showlegend": true,
         "textposition": "auto",
         "type": "bar",
         "x": {
          "bdata": "URBVDigOhg3yDNIMyAu4C3cKRQo=",
          "dtype": "i2"
         },
         "xaxis": "x",
         "y": [
          "JUMBO BAG RED RETROSPOT",
          "60 CAKE CASES VINTAGE CHRISTMAS",
          "POPCORN HOLDER",
          "WORLD WAR 2 GLIDERS ASSTD DESIGNS",
          "MINI PAINT SET VINTAGE ",
          "PACK OF 72 RETROSPOT CAKE CASES",
          "ASSORTED COLOUR BIRD ORNAMENT",
          "RED  HARMONICA IN BOX ",
          "JUMBO BAG VINTAGE DOILY ",
          "BUBBLEGUM RING ASSORTED"
         ],
         "yaxis": "y"
        },
        {
         "hovertemplate": "Month=2011-10<br>TotalQuantity=%{x}<br>Product=%{y}<extra></extra>",
         "legendgroup": "2011-10",
         "marker": {
          "color": "#636efa",
          "pattern": {
           "shape": ""
          }
         },
         "name": "2011-10",
         "orientation": "h",
         "showlegend": true,
         "textposition": "auto",
         "type": "bar",
         "x": {
          "bdata": "7h9pGAwWdRQJE44O3Qy/DKsMYAw=",
          "dtype": "i2"
         },
         "xaxis": "x",
         "y": [
          "WORLD WAR 2 GLIDERS ASSTD DESIGNS",
          "RABBIT NIGHT LIGHT",
          "POPCORN HOLDER",
          "JUMBO BAG RED RETROSPOT",
          "PINK BLUE FELT CRAFT TRINKET BOX",
          "60 CAKE CASES VINTAGE CHRISTMAS",
          "VICTORIAN GLASS HANGING T-LIGHT",
          "RED  HARMONICA IN BOX ",
          "PAPER CHAIN KIT 50'S CHRISTMAS ",
          "MINI PAINT SET VINTAGE "
         ],
         "yaxis": "y"
        },
        {
         "hovertemplate": "Month=2011-11<br>TotalQuantity=%{x}<br>Product=%{y}<extra></extra>",
         "legendgroup": "2011-11",
         "marker": {
          "color": "#EF553B",
          "pattern": {
           "shape": ""
          }
         },
         "name": "2011-11",
         "orientation": "h",
         "showlegend": true,
         "textposition": "auto",
         "type": "bar",
         "x": {
          "bdata": "BzFpMAohHxcuFkYUdRP9EuYRlBE=",
          "dtype": "i2"
         },
         "xaxis": "x",
         "y": [
          "ASSTD DESIGN 3D PAPER STICKERS",
          "RABBIT NIGHT LIGHT",
          "POPCORN HOLDER",
          "PAPER CHAIN KIT 50'S CHRISTMAS ",
          "JUMBO BAG RED RETROSPOT",
          "ASSORTED COLOUR BIRD ORNAMENT",
          "WOODEN STAR CHRISTMAS SCANDINAVIAN",
          "WHITE HANGING HEART T-LIGHT HOLDER",
          "WOODEN HEART CHRISTMAS SCANDINAVIAN",
          "WORLD WAR 2 GLIDERS ASSTD DESIGNS"
         ],
         "yaxis": "y"
        },
        {
         "hovertemplate": "Month=2011-12<br>TotalQuantity=%{x}<br>Product=%{y}<extra></extra>",
         "legendgroup": "2011-12",
         "marker": {
          "color": "#00cc96",
          "pattern": {
           "shape": ""
          }
         },
         "name": "2011-12",
         "orientation": "h",
         "showlegend": true,
         "textposition": "auto",
         "type": "bar",
         "x": {
          "bdata": "YzwBAPIUAABrDgAAJggAALgFAACrBQAApgUAAHEFAABTBQAA+gQAAA==",
          "dtype": "i4"
         },
         "xaxis": "x",
         "y": [
          "PAPER CRAFT , LITTLE BIRDIE",
          "POPCORN HOLDER",
          "RABBIT NIGHT LIGHT",
          "VINTAGE DOILY JUMBO BAG RED ",
          "BLACK RECORD COVER FRAME",
          "METAL SIGN TAKE IT OR LEAVE IT ",
          "DISCO BALL CHRISTMAS DECORATION",
          "PAPER CHAIN KIT 50'S CHRISTMAS ",
          "WORLD WAR 2 GLIDERS ASSTD DESIGNS",
          "ASSORTED COLOUR BIRD ORNAMENT"
         ],
         "yaxis": "y"
        }
       ],
       "layout": {
        "barmode": "relative",
        "legend": {
         "title": {
          "text": "Month"
         },
         "tracegroupgap": 0
        },
        "template": {
         "data": {
          "bar": [
           {
            "error_x": {
             "color": "#2a3f5f"
            },
            "error_y": {
             "color": "#2a3f5f"
            },
            "marker": {
             "line": {
              "color": "#E5ECF6",
              "width": 0.5
             },
             "pattern": {
              "fillmode": "overlay",
              "size": 10,
              "solidity": 0.2
             }
            },
            "type": "bar"
           }
          ],
          "barpolar": [
           {
            "marker": {
             "line": {
              "color": "#E5ECF6",
              "width": 0.5
             },
             "pattern": {
              "fillmode": "overlay",
              "size": 10,
              "solidity": 0.2
             }
            },
            "type": "barpolar"
           }
          ],
          "carpet": [
           {
            "aaxis": {
             "endlinecolor": "#2a3f5f",
             "gridcolor": "white",
             "linecolor": "white",
             "minorgridcolor": "white",
             "startlinecolor": "#2a3f5f"
            },
            "baxis": {
             "endlinecolor": "#2a3f5f",
             "gridcolor": "white",
             "linecolor": "white",
             "minorgridcolor": "white",
             "startlinecolor": "#2a3f5f"
            },
            "type": "carpet"
           }
          ],
          "choropleth": [
           {
            "colorbar": {
             "outlinewidth": 0,
             "ticks": ""
            },
            "type": "choropleth"
           }
          ],
          "contour": [
           {
            "colorbar": {
             "outlinewidth": 0,
             "ticks": ""
            },
            "colorscale": [
             [
              0,
              "#0d0887"
             ],
             [
              0.1111111111111111,
              "#46039f"
             ],
             [
              0.2222222222222222,
              "#7201a8"
             ],
             [
              0.3333333333333333,
              "#9c179e"
             ],
             [
              0.4444444444444444,
              "#bd3786"
             ],
             [
              0.5555555555555556,
              "#d8576b"
             ],
             [
              0.6666666666666666,
              "#ed7953"
             ],
             [
              0.7777777777777778,
              "#fb9f3a"
             ],
             [
              0.8888888888888888,
              "#fdca26"
             ],
             [
              1,
              "#f0f921"
             ]
            ],
            "type": "contour"
           }
          ],
          "contourcarpet": [
           {
            "colorbar": {
             "outlinewidth": 0,
             "ticks": ""
            },
            "type": "contourcarpet"
           }
          ],
          "heatmap": [
           {
            "colorbar": {
             "outlinewidth": 0,
             "ticks": ""
            },
            "colorscale": [
             [
              0,
              "#0d0887"
             ],
             [
              0.1111111111111111,
              "#46039f"
             ],
             [
              0.2222222222222222,
              "#7201a8"
             ],
             [
              0.3333333333333333,
              "#9c179e"
             ],
             [
              0.4444444444444444,
              "#bd3786"
             ],
             [
              0.5555555555555556,
              "#d8576b"
             ],
             [
              0.6666666666666666,
              "#ed7953"
             ],
             [
              0.7777777777777778,
              "#fb9f3a"
             ],
             [
              0.8888888888888888,
              "#fdca26"
             ],
             [
              1,
              "#f0f921"
             ]
            ],
            "type": "heatmap"
           }
          ],
          "histogram": [
           {
            "marker": {
             "pattern": {
              "fillmode": "overlay",
              "size": 10,
              "solidity": 0.2
             }
            },
            "type": "histogram"
           }
          ],
          "histogram2d": [
           {
            "colorbar": {
             "outlinewidth": 0,
             "ticks": ""
            },
            "colorscale": [
             [
              0,
              "#0d0887"
             ],
             [
              0.1111111111111111,
              "#46039f"
             ],
             [
              0.2222222222222222,
              "#7201a8"
             ],
             [
              0.3333333333333333,
              "#9c179e"
             ],
             [
              0.4444444444444444,
              "#bd3786"
             ],
             [
              0.5555555555555556,
              "#d8576b"
             ],
             [
              0.6666666666666666,
              "#ed7953"
             ],
             [
              0.7777777777777778,
              "#fb9f3a"
             ],
             [
              0.8888888888888888,
              "#fdca26"
             ],
             [
              1,
              "#f0f921"
             ]
            ],
            "type": "histogram2d"
           }
          ],
          "histogram2dcontour": [
           {
            "colorbar": {
             "outlinewidth": 0,
             "ticks": ""
            },
            "colorscale": [
             [
              0,
              "#0d0887"
             ],
             [
              0.1111111111111111,
              "#46039f"
             ],
             [
              0.2222222222222222,
              "#7201a8"
             ],
             [
              0.3333333333333333,
              "#9c179e"
             ],
             [
              0.4444444444444444,
              "#bd3786"
             ],
             [
              0.5555555555555556,
              "#d8576b"
             ],
             [
              0.6666666666666666,
              "#ed7953"
             ],
             [
              0.7777777777777778,
              "#fb9f3a"
             ],
             [
              0.8888888888888888,
              "#fdca26"
             ],
             [
              1,
              "#f0f921"
             ]
            ],
            "type": "histogram2dcontour"
           }
          ],
          "mesh3d": [
           {
            "colorbar": {
             "outlinewidth": 0,
             "ticks": ""
            },
            "type": "mesh3d"
           }
          ],
          "parcoords": [
           {
            "line": {
             "colorbar": {
              "outlinewidth": 0,
              "ticks": ""
             }
            },
            "type": "parcoords"
           }
          ],
          "pie": [
           {
            "automargin": true,
            "type": "pie"
           }
          ],
          "scatter": [
           {
            "fillpattern": {
             "fillmode": "overlay",
             "size": 10,
             "solidity": 0.2
            },
            "type": "scatter"
           }
          ],
          "scatter3d": [
           {
            "line": {
             "colorbar": {
              "outlinewidth": 0,
              "ticks": ""
             }
            },
            "marker": {
             "colorbar": {
              "outlinewidth": 0,
              "ticks": ""
             }
            },
            "type": "scatter3d"
           }
          ],
          "scattercarpet": [
           {
            "marker": {
             "colorbar": {
              "outlinewidth": 0,
              "ticks": ""
             }
            },
            "type": "scattercarpet"
           }
          ],
          "scattergeo": [
           {
            "marker": {
             "colorbar": {
              "outlinewidth": 0,
              "ticks": ""
             }
            },
            "type": "scattergeo"
           }
          ],
          "scattergl": [
           {
            "marker": {
             "colorbar": {
              "outlinewidth": 0,
              "ticks": ""
             }
            },
            "type": "scattergl"
           }
          ],
          "scattermap": [
           {
            "marker": {
             "colorbar": {
              "outlinewidth": 0,
              "ticks": ""
             }
            },
            "type": "scattermap"
           }
          ],
          "scattermapbox": [
           {
            "marker": {
             "colorbar": {
              "outlinewidth": 0,
              "ticks": ""
             }
            },
            "type": "scattermapbox"
           }
          ],
          "scatterpolar": [
           {
            "marker": {
             "colorbar": {
              "outlinewidth": 0,
              "ticks": ""
             }
            },
            "type": "scatterpolar"
           }
          ],
          "scatterpolargl": [
           {
            "marker": {
             "colorbar": {
              "outlinewidth": 0,
              "ticks": ""
             }
            },
            "type": "scatterpolargl"
           }
          ],
          "scatterternary": [
           {
            "marker": {
             "colorbar": {
              "outlinewidth": 0,
              "ticks": ""
             }
            },
            "type": "scatterternary"
           }
          ],
          "surface": [
           {
            "colorbar": {
             "outlinewidth": 0,
             "ticks": ""
            },
            "colorscale": [
             [
              0,
              "#0d0887"
             ],
             [
              0.1111111111111111,
              "#46039f"
             ],
             [
              0.2222222222222222,
              "#7201a8"
             ],
             [
              0.3333333333333333,
              "#9c179e"
             ],
             [
              0.4444444444444444,
              "#bd3786"
             ],
             [
              0.5555555555555556,
              "#d8576b"
             ],
             [
              0.6666666666666666,
              "#ed7953"
             ],
             [
              0.7777777777777778,
              "#fb9f3a"
             ],
             [
              0.8888888888888888,
              "#fdca26"
             ],
             [
              1,
              "#f0f921"
             ]
            ],
            "type": "surface"
           }
          ],
          "table": [
           {
            "cells": {
             "fill": {
              "color": "#EBF0F8"
             },
             "line": {
              "color": "white"
             }
            },
            "header": {
             "fill": {
              "color": "#C8D4E3"
             },
             "line": {
              "color": "white"
             }
            },
            "type": "table"
           }
          ]
         },
         "layout": {
          "annotationdefaults": {
           "arrowcolor": "#2a3f5f",
           "arrowhead": 0,
           "arrowwidth": 1
          },
          "autotypenumbers": "strict",
          "coloraxis": {
           "colorbar": {
            "outlinewidth": 0,
            "ticks": ""
           }
          },
          "colorscale": {
           "diverging": [
            [
             0,
             "#8e0152"
            ],
            [
             0.1,
             "#c51b7d"
            ],
            [
             0.2,
             "#de77ae"
            ],
            [
             0.3,
             "#f1b6da"
            ],
            [
             0.4,
             "#fde0ef"
            ],
            [
             0.5,
             "#f7f7f7"
            ],
            [
             0.6,
             "#e6f5d0"
            ],
            [
             0.7,
             "#b8e186"
            ],
            [
             0.8,
             "#7fbc41"
            ],
            [
             0.9,
             "#4d9221"
            ],
            [
             1,
             "#276419"
            ]
           ],
           "sequential": [
            [
             0,
             "#0d0887"
            ],
            [
             0.1111111111111111,
             "#46039f"
            ],
            [
             0.2222222222222222,
             "#7201a8"
            ],
            [
             0.3333333333333333,
             "#9c179e"
            ],
            [
             0.4444444444444444,
             "#bd3786"
            ],
            [
             0.5555555555555556,
             "#d8576b"
            ],
            [
             0.6666666666666666,
             "#ed7953"
            ],
            [
             0.7777777777777778,
             "#fb9f3a"
            ],
            [
             0.8888888888888888,
             "#fdca26"
            ],
            [
             1,
             "#f0f921"
            ]
           ],
           "sequentialminus": [
            [
             0,
             "#0d0887"
            ],
            [
             0.1111111111111111,
             "#46039f"
            ],
            [
             0.2222222222222222,
             "#7201a8"
            ],
            [
             0.3333333333333333,
             "#9c179e"
            ],
            [
             0.4444444444444444,
             "#bd3786"
            ],
            [
             0.5555555555555556,
             "#d8576b"
            ],
            [
             0.6666666666666666,
             "#ed7953"
            ],
            [
             0.7777777777777778,
             "#fb9f3a"
            ],
            [
             0.8888888888888888,
             "#fdca26"
            ],
            [
             1,
             "#f0f921"
            ]
           ]
          },
          "colorway": [
           "#636efa",
           "#EF553B",
           "#00cc96",
           "#ab63fa",
           "#FFA15A",
           "#19d3f3",
           "#FF6692",
           "#B6E880",
           "#FF97FF",
           "#FECB52"
          ],
          "font": {
           "color": "#2a3f5f"
          },
          "geo": {
           "bgcolor": "white",
           "lakecolor": "white",
           "landcolor": "#E5ECF6",
           "showlakes": true,
           "showland": true,
           "subunitcolor": "white"
          },
          "hoverlabel": {
           "align": "left"
          },
          "hovermode": "closest",
          "mapbox": {
           "style": "light"
          },
          "paper_bgcolor": "white",
          "plot_bgcolor": "#E5ECF6",
          "polar": {
           "angularaxis": {
            "gridcolor": "white",
            "linecolor": "white",
            "ticks": ""
           },
           "bgcolor": "#E5ECF6",
           "radialaxis": {
            "gridcolor": "white",
            "linecolor": "white",
            "ticks": ""
           }
          },
          "scene": {
           "xaxis": {
            "backgroundcolor": "#E5ECF6",
            "gridcolor": "white",
            "gridwidth": 2,
            "linecolor": "white",
            "showbackground": true,
            "ticks": "",
            "zerolinecolor": "white"
           },
           "yaxis": {
            "backgroundcolor": "#E5ECF6",
            "gridcolor": "white",
            "gridwidth": 2,
            "linecolor": "white",
            "showbackground": true,
            "ticks": "",
            "zerolinecolor": "white"
           },
           "zaxis": {
            "backgroundcolor": "#E5ECF6",
            "gridcolor": "white",
            "gridwidth": 2,
            "linecolor": "white",
            "showbackground": true,
            "ticks": "",
            "zerolinecolor": "white"
           }
          },
          "shapedefaults": {
           "line": {
            "color": "#2a3f5f"
           }
          },
          "ternary": {
           "aaxis": {
            "gridcolor": "white",
            "linecolor": "white",
            "ticks": ""
           },
           "baxis": {
            "gridcolor": "white",
            "linecolor": "white",
            "ticks": ""
           },
           "bgcolor": "#E5ECF6",
           "caxis": {
            "gridcolor": "white",
            "linecolor": "white",
            "ticks": ""
           }
          },
          "title": {
           "x": 0.05
          },
          "xaxis": {
           "automargin": true,
           "gridcolor": "white",
           "linecolor": "white",
           "ticks": "",
           "title": {
            "standoff": 15
           },
           "zerolinecolor": "white",
           "zerolinewidth": 2
          },
          "yaxis": {
           "automargin": true,
           "gridcolor": "white",
           "linecolor": "white",
           "ticks": "",
           "title": {
            "standoff": 15
           },
           "zerolinecolor": "white",
           "zerolinewidth": 2
          }
         }
        },
        "title": {
         "text": "Top 10 Products Sold by Month"
        },
        "xaxis": {
         "anchor": "y",
         "domain": [
          0,
          1
         ],
         "title": {
          "text": "TotalQuantity"
         }
        },
        "yaxis": {
         "anchor": "x",
         "domain": [
          0,
          1
         ],
         "title": {
          "text": "Product"
         }
        }
       }
      }
     },
     "metadata": {},
     "output_type": "display_data"
    }
   ],
   "source": [
    "import plotly.express as px\n",
    "\n",
    "fig = px.bar(top_products_by_month, \n",
    "             x='TotalQuantity', y='Product', \n",
    "             color='Month', \n",
    "             orientation='h', \n",
    "             title=\"Top 10 Products Sold by Month\")\n",
    "\n",
    "fig.write_html(\"../imgs/top_products_by_month.html\")\n",
    "fig.write_image(\"../imgs/top_products_by_month.png\")\n",
    "\n",
    "fig.show()"
   ]
  },
  {
   "cell_type": "code",
   "execution_count": 11,
   "id": "51de88ee",
   "metadata": {},
   "outputs": [
    {
     "name": "stderr",
     "output_type": "stream",
     "text": [
      "/tmp/ipykernel_18673/3308684411.py:6: FutureWarning:\n",
      "\n",
      "\n",
      "\n",
      "Passing `palette` without assigning `hue` is deprecated and will be removed in v0.14.0. Assign the `y` variable to `hue` and set `legend=False` for the same effect.\n",
      "\n",
      "\n"
     ]
    },
    {
     "data": {
      "image/png": "[encoded data removed]",
      "text/plain": [
       "<Figure size 800x500 with 1 Axes>"
      ]
     },
     "metadata": {},
     "output_type": "display_data"
    }
   ],
   "source": [
    "# Top 5 products\n",
    "top_5_products = processed_data.groupby('Description')['Quantity'].sum().nlargest(5).reset_index()\n",
    "top_5_products.columns = ['Product', 'TotalQuantity']\n",
    "\n",
    "plt.figure(figsize=(8, 5))\n",
    "sns.barplot(data=top_5_products, x='TotalQuantity', y='Product', palette='Blues')\n",
    "plt.title('Top 5 Products Sold')\n",
    "plt.xlabel('Total Quantity Sold')\n",
    "plt.ylabel('Product')\n",
    "plt.tight_layout()\n",
    "\n",
    "plt.savefig('../imgs/top_5_products.png')\n",
    "\n",
    "plt.show()"
   ]
  }
 ],
 "metadata": {
  "kernelspec": {
   "display_name": "Python 3",
   "language": "python",
   "name": "python3"
  },
  "language_info": {
   "codemirror_mode": {
    "name": "ipython",
    "version": 3
   },
   "file_extension": ".py",
   "mimetype": "text/x-python",
   "name": "python",
   "nbconvert_exporter": "python",
   "pygments_lexer": "ipython3",
   "version": "3.10.12"
  }
 },
 "nbformat": 4,
 "nbformat_minor": 5
}
